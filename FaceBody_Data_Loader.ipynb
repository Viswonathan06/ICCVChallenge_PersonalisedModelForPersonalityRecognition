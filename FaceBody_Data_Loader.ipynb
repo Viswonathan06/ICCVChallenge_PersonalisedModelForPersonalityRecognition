{
  "nbformat": 4,
  "nbformat_minor": 0,
  "metadata": {
    "colab": {
      "name": "FaceBody Data Loader.ipynb",
      "provenance": [],
      "collapsed_sections": []
    },
    "kernelspec": {
      "name": "python3",
      "display_name": "Python 3"
    },
    "language_info": {
      "name": "python"
    }
  },
  "cells": [
    {
      "cell_type": "code",
      "metadata": {
        "colab": {
          "base_uri": "https://localhost:8080/"
        },
        "id": "mEf7oVg51IIj",
        "outputId": "cdfb94d3-8125-48a9-b23e-31c31af9a5dd"
      },
      "source": [
        "from google.colab import drive\n",
        "drive.mount('/content/drive')"
      ],
      "execution_count": null,
      "outputs": [
        {
          "output_type": "stream",
          "name": "stdout",
          "text": [
            "Mounted at /content/drive\n"
          ]
        }
      ]
    },
    {
      "cell_type": "code",
      "metadata": {
        "id": "jlB9tz2mzYta"
      },
      "source": [
        "# import keras\n",
        "import os\n",
        "import h5py\n",
        "import numpy as np\n",
        "import pickle\n",
        "import pandas as pd\n"
      ],
      "execution_count": null,
      "outputs": []
    },
    {
      "cell_type": "code",
      "metadata": {
        "id": "TABTrFoY4d-Y",
        "colab": {
          "base_uri": "https://localhost:8080/"
        },
        "outputId": "343cd816-44f8-428b-b40f-a678cb9b1c73"
      },
      "source": [
        "#print(M_1.shape)\n",
        "# /content/drive/MyDrive/Recordings/Validation/Final_val.csv\n",
        "\n",
        "# Reading validation file. \n",
        "df=pd.read_csv('/content/drive/MyDrive/Recordings/Validation/Final_val.csv')\n",
        "\n",
        "# Reading training file.\n",
        "df_train=pd.read_csv('/content/drive/MyDrive/Recordings/Train/Final-3.csv')\n",
        "df_test = pd.read_csv('/content/drive/MyDrive/Recordings/Test/final_test.csv')\n",
        "\n",
        "df = df.drop(['Unnamed: 0', 'Video', 'PART.1', 'PART.2','TIMESTAMP', 'LANGUAGE', 'COUNTRY' , 'EDUCATION'], axis = 1)\n",
        "df_train = df_train.drop(['Unnamed: 0', 'Video', 'PART.1', 'PART.2', 'LANGUAGE'], axis = 1)\n",
        "\n",
        "list_id = df.ID_y\n",
        "df_train.columns"
      ],
      "execution_count": null,
      "outputs": [
        {
          "output_type": "execute_result",
          "data": {
            "text/plain": [
              "Index(['ID_y', 'GENDER', 'AGE', 'OPENMINDEDNESS_Z', 'CONSCIENTIOUSNESS_Z',\n",
              "       'EXTRAVERSION_Z', 'AGREEABLENESS_Z', 'NEGATIVEEMOTIONALITY_Z',\n",
              "       'SESSION1', 'SESSION2', 'SESSION3', 'SESSION4'],\n",
              "      dtype='object')"
            ]
          },
          "metadata": {},
          "execution_count": 8
        }
      ]
    },
    {
      "cell_type": "markdown",
      "metadata": {
        "id": "RB8zmXKEFuPi"
      },
      "source": [
        "## Code for preparing data to feed to network.\n",
        "\n",
        "This is dynamic. So if you feed a dataframe, it will check the following:\n",
        "\n",
        "a. It will check if each session files are present or not. If not, it loads zeros as data.  \n",
        "b. It will check if face landmarks are there or not. If not, it loads zeros.  \n",
        "c. It checks if the OCEAN labels are present or not. If not, it loads 1's"
      ]
    },
    {
      "cell_type": "code",
      "metadata": {
        "id": "d124OFhIQPfZ"
      },
      "source": [
        "temp = []"
      ],
      "execution_count": null,
      "outputs": []
    },
    {
      "cell_type": "code",
      "metadata": {
        "colab": {
          "base_uri": "https://localhost:8080/",
          "height": 467
        },
        "id": "m2CU5poJ_nuW",
        "outputId": "5ac382f3-b71a-4597-9666-23a08c4e4819"
      },
      "source": [
        "df_train.head()"
      ],
      "execution_count": null,
      "outputs": [
        {
          "output_type": "execute_result",
          "data": {
            "text/html": [
              "<div>\n",
              "<style scoped>\n",
              "    .dataframe tbody tr th:only-of-type {\n",
              "        vertical-align: middle;\n",
              "    }\n",
              "\n",
              "    .dataframe tbody tr th {\n",
              "        vertical-align: top;\n",
              "    }\n",
              "\n",
              "    .dataframe thead th {\n",
              "        text-align: right;\n",
              "    }\n",
              "</style>\n",
              "<table border=\"1\" class=\"dataframe\">\n",
              "  <thead>\n",
              "    <tr style=\"text-align: right;\">\n",
              "      <th></th>\n",
              "      <th>ID_y</th>\n",
              "      <th>GENDER</th>\n",
              "      <th>AGE</th>\n",
              "      <th>OPENMINDEDNESS_Z</th>\n",
              "      <th>CONSCIENTIOUSNESS_Z</th>\n",
              "      <th>EXTRAVERSION_Z</th>\n",
              "      <th>AGREEABLENESS_Z</th>\n",
              "      <th>NEGATIVEEMOTIONALITY_Z</th>\n",
              "      <th>SESSION1</th>\n",
              "      <th>SESSION2</th>\n",
              "      <th>SESSION3</th>\n",
              "      <th>SESSION4</th>\n",
              "    </tr>\n",
              "  </thead>\n",
              "  <tbody>\n",
              "    <tr>\n",
              "      <th>0</th>\n",
              "      <td>2</td>\n",
              "      <td>F</td>\n",
              "      <td>29</td>\n",
              "      <td>-1.683690</td>\n",
              "      <td>1.292321</td>\n",
              "      <td>-0.231237</td>\n",
              "      <td>1.160066</td>\n",
              "      <td>-0.312424</td>\n",
              "      <td>/content/drive/MyDrive/Annotations/Animals/002...</td>\n",
              "      <td>/content/drive/MyDrive/Annotations/Talk/Annota...</td>\n",
              "      <td>/content/drive/MyDrive/Annotations/Lego/002003...</td>\n",
              "      <td>/content/drive/MyDrive/Annotations/Ghost/00200...</td>\n",
              "    </tr>\n",
              "    <tr>\n",
              "      <th>1</th>\n",
              "      <td>3</td>\n",
              "      <td>F</td>\n",
              "      <td>28</td>\n",
              "      <td>-0.263908</td>\n",
              "      <td>0.616152</td>\n",
              "      <td>0.243083</td>\n",
              "      <td>0.982578</td>\n",
              "      <td>-0.437972</td>\n",
              "      <td>/content/drive/MyDrive/Annotations/Animals/002...</td>\n",
              "      <td>/content/drive/MyDrive/Annotations/Talk/Annota...</td>\n",
              "      <td>/content/drive/MyDrive/Annotations/Lego/002003...</td>\n",
              "      <td>/content/drive/MyDrive/Annotations/Ghost/00200...</td>\n",
              "    </tr>\n",
              "    <tr>\n",
              "      <th>2</th>\n",
              "      <td>3</td>\n",
              "      <td>F</td>\n",
              "      <td>28</td>\n",
              "      <td>-0.263908</td>\n",
              "      <td>0.616152</td>\n",
              "      <td>0.243083</td>\n",
              "      <td>0.982578</td>\n",
              "      <td>-0.437972</td>\n",
              "      <td>/content/drive/MyDrive/Annotations/Animals/003...</td>\n",
              "      <td>/content/drive/MyDrive/Annotations/Talk/Annota...</td>\n",
              "      <td>/content/drive/MyDrive/Annotations/Lego/003005...</td>\n",
              "      <td>/content/drive/MyDrive/Annotations/Ghost/00300...</td>\n",
              "    </tr>\n",
              "    <tr>\n",
              "      <th>3</th>\n",
              "      <td>4</td>\n",
              "      <td>M</td>\n",
              "      <td>31</td>\n",
              "      <td>-0.421661</td>\n",
              "      <td>-0.330485</td>\n",
              "      <td>-0.705557</td>\n",
              "      <td>0.272626</td>\n",
              "      <td>-0.312424</td>\n",
              "      <td>/content/drive/MyDrive/Annotations/Animals/004...</td>\n",
              "      <td>/content/drive/MyDrive/Annotations/Talk/Annota...</td>\n",
              "      <td>/content/drive/MyDrive/Annotations/Lego/004096...</td>\n",
              "      <td>/content/drive/MyDrive/Annotations/Ghost/00409...</td>\n",
              "    </tr>\n",
              "    <tr>\n",
              "      <th>4</th>\n",
              "      <td>4</td>\n",
              "      <td>M</td>\n",
              "      <td>31</td>\n",
              "      <td>-0.421661</td>\n",
              "      <td>-0.330485</td>\n",
              "      <td>-0.705557</td>\n",
              "      <td>0.272626</td>\n",
              "      <td>-0.312424</td>\n",
              "      <td>/content/drive/MyDrive/Annotations/Animals/004...</td>\n",
              "      <td>/content/drive/MyDrive/Annotations/Talk/Annota...</td>\n",
              "      <td>/content/drive/MyDrive/Annotations/Lego/004115...</td>\n",
              "      <td>/content/drive/MyDrive/Annotations/Ghost/00411...</td>\n",
              "    </tr>\n",
              "  </tbody>\n",
              "</table>\n",
              "</div>"
            ],
            "text/plain": [
              "   ID_y  ...                                           SESSION4\n",
              "0     2  ...  /content/drive/MyDrive/Annotations/Ghost/00200...\n",
              "1     3  ...  /content/drive/MyDrive/Annotations/Ghost/00200...\n",
              "2     3  ...  /content/drive/MyDrive/Annotations/Ghost/00300...\n",
              "3     4  ...  /content/drive/MyDrive/Annotations/Ghost/00409...\n",
              "4     4  ...  /content/drive/MyDrive/Annotations/Ghost/00411...\n",
              "\n",
              "[5 rows x 12 columns]"
            ]
          },
          "metadata": {},
          "execution_count": 9
        }
      ]
    },
    {
      "cell_type": "code",
      "metadata": {
        "id": "224ETggspNPs"
      },
      "source": [
        "maleidx = []\n",
        "femaleidx = []\n",
        "\n",
        "def prepareData(df):  \n",
        "  male = []\n",
        "  female = []\n",
        "  maleY = []\n",
        "  femaleY = []\n",
        "  total_landmarks = []\n",
        "  data = {'Video':[], 'ID_y':[], 'minute': [], 'session': [], 'gender': [], 'OPENMINDEDNESS_Z':[], 'CONSCIENTIOUSNESS_Z':[],\n",
        "      'EXTRAVERSION_Z':[], 'AGREEABLENESS_Z':[], 'NEGATIVEEMOTIONALITY_Z':[]}\n",
        "  df_temp = pd.DataFrame(data)\n",
        "  \n",
        "  OCEANvals = ['OPENMINDEDNESS_Z', 'CONSCIENTIOUSNESS_Z',\n",
        "      'EXTRAVERSION_Z', 'AGREEABLENESS_Z', 'NEGATIVEEMOTIONALITY_Z']\n",
        "  \n",
        "  face_zero_array = np.zeros(204)\n",
        "  body_zero_array = np.zeros(72)\n",
        "  hand_zero_array = np.zeros(63)\n",
        "  zero_array = np.zeros(603000)\n",
        "\n",
        "  sessions = ['SESSION1','SESSION2','SESSION3','SESSION4']\n",
        "  landmarks_for_sess = []\n",
        "\n",
        "  for index, row in df.iterrows():\n",
        "      # Going through each ID's h5py file\n",
        "        print(row['ID_y'])\n",
        "        for session in sessions:\n",
        "          # print(session)\n",
        "          # print(row[session])\n",
        "\n",
        "          # Check if the file exists\n",
        "          if not os.path.isfile(row[session]):\n",
        "            print(\"INACCESSIBLE \", row[session])\n",
        "            continue\n",
        "          # Landmarks for current session stored here\n",
        "\n",
        "          # If it exists, go through it\n",
        "          with h5py.File(row[session]) as f:\n",
        "            ls= list(f.keys())\n",
        "            frame = 1; \n",
        "            print(len(ls))\n",
        "            current_minute = []\n",
        "            \n",
        "            # for each frame in the list of frames, till 1500\n",
        "            for fr in ls:\n",
        "              # if frame == 1500:\n",
        "              #   break\n",
        "              lndmrk = []\n",
        "              # If no landmarks for current frame, then skip\n",
        "              if len(f[fr])==0 :\n",
        "                # If there are no landmarks, fill it with zero to maintain consistency, 402 because 402 features\n",
        "                lndmrk.append(np.zeros(276))\n",
        "                # print(\"Skipping this\")\n",
        "                frame = frame+1\n",
        "                continue\n",
        "\n",
        "              # if face landmarks are there\n",
        "              if not len(f[fr]['face'])==0:\n",
        "                face_landmarks = np.asarray(f[fr]['face']['landmarks'])\n",
        "                face_landmarks = face_landmarks.reshape([1,-1])\n",
        "                lndmrk = lndmrk+ list(face_landmarks[0])\n",
        "                \n",
        "              else:\n",
        "                \n",
        "                # if not there\n",
        "                lndmrk = lndmrk+ list(face_zero_array)\n",
        "              \n",
        "\n",
        "              # If body landmarks are there\n",
        "              if not len(f[fr]['body'])==0:\n",
        "                body_landmarks = np.asarray(f[fr]['body']['landmarks'])\n",
        "                body_landmarks = body_landmarks.reshape([1,-1])\n",
        "                lndmrk = lndmrk+ list(body_landmarks[0])\n",
        "\n",
        "              else: \n",
        "\n",
        "                # if not there\n",
        "                lndmrk= lndmrk+ list(body_zero_array)\n",
        "                \n",
        "            #   COMMENTED OUT TO NOT CONSIDER HAND\n",
        "              # # If hand landmarks are not there at all.\n",
        "              # if len(f[fr]['hands']) == 0:\n",
        "              #   lndmrk = lndmrk+ list(hand_zero_array)+list(hand_zero_array)\n",
        "              #   # print(\"NO HAND LANDMARKS\")\n",
        "              # else:\n",
        "              #   # if left hands landmarks are there, \n",
        "              #   if not (len(f[fr]['hands']['left']) == 0):\n",
        "              #     left_hands_landmarks = np.asarray(f[fr]['hands']['left']['landmarks'])                  \n",
        "              #     left_hands_landmarks = left_hands_landmarks.reshape([1,-1])\n",
        "              #     lndmrk = lndmrk+ list(left_hands_landmarks[0])\n",
        "              #   else:\n",
        "\n",
        "              #     # if left landmarks not there\n",
        "              #     lndmrk = lndmrk+ list(hand_zero_array)\n",
        "                  \n",
        "              #   # if right hands landmarks are there\n",
        "              #   if not (len(f[fr]['hands']['right'])==0):\n",
        "              #     right_hands_landmarks = np.asarray(f[fr]['hands']['right']['landmarks'])\n",
        "              #     right_hands_landmarks = right_hands_landmarks.reshape(1,-1)\n",
        "              #     lndmrk= lndmrk+ list(right_hands_landmarks[0])\n",
        "              #   else:\n",
        "              #     # if right not there\n",
        "              #     lndmrk= lndmrk+ list(hand_zero_array)\n",
        "                  \n",
        "              \n",
        "              # We get lndmrk as a list of (1,whatever)\n",
        "              lndmrk = np.array(lndmrk)\n",
        "              # Just to check\n",
        "              # print( len(lndmrk))\n",
        "\n",
        "              # Appending it to the session landmarks\n",
        "              current_minute.append(lndmrk)\n",
        "              frame = frame+1\n",
        "              # print(frame)\n",
        "              if frame%1500 == 0:\n",
        "                minute = frame/1500\n",
        "                vid_data = row[session].split('/') \n",
        "                video_name = vid_data[8]\n",
        "                session_name = vid_data[7]\n",
        "                personID = row['ID_y']\n",
        "                # print(str(video_name)+' '+str(personID)+' '+str(session_name)+' '+str(minute))\n",
        "                \n",
        "                dat = {'Video':video_name, 'ID_y':personID, 'minute': minute, 'session': session_name, 'OPENMINDEDNESS_Z':row['OPENMINDEDNESS_Z'],\n",
        "                       'CONSCIENTIOUSNESS_Z': row['CONSCIENTIOUSNESS_Z'],\n",
        "                        'EXTRAVERSION_Z' : row['EXTRAVERSION_Z'],\n",
        "                        'AGREEABLENESS_Z' : row['AGREEABLENESS_Z'],\n",
        "                        'NEGATIVEEMOTIONALITY_Z' : row['NEGATIVEEMOTIONALITY_Z']}\n",
        "                        \n",
        "                df_temp = df_temp.append(dat, ignore_index=True)\n",
        "\n",
        "\n",
        "                mean_minute = np.array(np.mean(current_minute, axis=0))\n",
        "                # print(mean_minute)\n",
        "                std_minute = np.array(np.std(current_minute, axis=0))\n",
        "                minute_data = np.concatenate([mean_minute,std_minute])\n",
        "                landmarks_for_sess.append(minute_data)\n",
        "\n",
        "\n",
        "                \n",
        "\n",
        "          print(\"Done with\", session)\n",
        "\n",
        "          print(\"landmarks shape = \",len(landmarks_for_sess),len(landmarks_for_sess[0]))\n",
        "          # total_landmarks.append(landmarks_for_sess)\n",
        "          # print(len(total_landmarks))\n",
        "          print(len(df_temp.index))\n",
        "          print(df_temp.tail())\n",
        "\n",
        "  landmarks_for_sess = np.array(landmarks_for_sess)\n",
        "\n",
        "  df_temp = pd.concat([df_temp, pd.DataFrame(landmarks_for_sess)], axis=1)\n",
        "  \n",
        "  # if the labels are there\n",
        "  # list_cols = list(df_temp.columns)\n",
        "  # print(list_cols)\n",
        "  return df_temp"
      ],
      "execution_count": null,
      "outputs": []
    },
    {
      "cell_type": "markdown",
      "metadata": {
        "id": "Fj-ZMwVBp01q"
      },
      "source": [
        "## defining lists for loading the data\n",
        "\n"
      ]
    },
    {
      "cell_type": "code",
      "metadata": {
        "id": "0dGP0ymMb7cX",
        "colab": {
          "base_uri": "https://localhost:8080/",
          "height": 625
        },
        "outputId": "767bea74-9fd3-4182-a28f-018ef75a802f"
      },
      "source": [
        "df_temp_train = prepareData(df_train)\n"
      ],
      "execution_count": null,
      "outputs": [
        {
          "output_type": "stream",
          "name": "stdout",
          "text": [
            "2\n",
            "30500\n",
            "Done with SESSION1\n",
            "landmarks shape =  20 552\n",
            "20\n",
            "                   Video  ID_y  ...  AGREEABLENESS_Z NEGATIVEEMOTIONALITY_Z\n",
            "15  annotations_raw.hdf5   2.0  ...         1.160066              -0.312424\n",
            "16  annotations_raw.hdf5   2.0  ...         1.160066              -0.312424\n",
            "17  annotations_raw.hdf5   2.0  ...         1.160066              -0.312424\n",
            "18  annotations_raw.hdf5   2.0  ...         1.160066              -0.312424\n",
            "19  annotations_raw.hdf5   2.0  ...         1.160066              -0.312424\n",
            "\n",
            "[5 rows x 10 columns]\n",
            "8343\n"
          ]
        },
        {
          "output_type": "error",
          "ename": "KeyboardInterrupt",
          "evalue": "ignored",
          "traceback": [
            "\u001b[0;31m---------------------------------------------------------------------------\u001b[0m",
            "\u001b[0;31mKeyboardInterrupt\u001b[0m                         Traceback (most recent call last)",
            "\u001b[0;32m<ipython-input-12-b4e945494abb>\u001b[0m in \u001b[0;36m<module>\u001b[0;34m()\u001b[0m\n\u001b[0;32m----> 1\u001b[0;31m \u001b[0mdf_temp_train\u001b[0m \u001b[0;34m=\u001b[0m \u001b[0mprepareData\u001b[0m\u001b[0;34m(\u001b[0m\u001b[0mdf_train\u001b[0m\u001b[0;34m)\u001b[0m\u001b[0;34m\u001b[0m\u001b[0;34m\u001b[0m\u001b[0m\n\u001b[0m",
            "\u001b[0;32m<ipython-input-11-1a5bdf5eeb7e>\u001b[0m in \u001b[0;36mprepareData\u001b[0;34m(df)\u001b[0m\n\u001b[1;32m    135\u001b[0m                 \u001b[0mstd_minute\u001b[0m \u001b[0;34m=\u001b[0m \u001b[0mnp\u001b[0m\u001b[0;34m.\u001b[0m\u001b[0marray\u001b[0m\u001b[0;34m(\u001b[0m\u001b[0mnp\u001b[0m\u001b[0;34m.\u001b[0m\u001b[0mstd\u001b[0m\u001b[0;34m(\u001b[0m\u001b[0mcurrent_minute\u001b[0m\u001b[0;34m,\u001b[0m \u001b[0maxis\u001b[0m\u001b[0;34m=\u001b[0m\u001b[0;36m0\u001b[0m\u001b[0;34m)\u001b[0m\u001b[0;34m)\u001b[0m\u001b[0;34m\u001b[0m\u001b[0;34m\u001b[0m\u001b[0m\n\u001b[1;32m    136\u001b[0m                 \u001b[0mminute_data\u001b[0m \u001b[0;34m=\u001b[0m \u001b[0mnp\u001b[0m\u001b[0;34m.\u001b[0m\u001b[0mconcatenate\u001b[0m\u001b[0;34m(\u001b[0m\u001b[0;34m[\u001b[0m\u001b[0mmean_minute\u001b[0m\u001b[0;34m,\u001b[0m\u001b[0mstd_minute\u001b[0m\u001b[0;34m]\u001b[0m\u001b[0;34m)\u001b[0m\u001b[0;34m\u001b[0m\u001b[0;34m\u001b[0m\u001b[0m\n\u001b[0;32m--> 137\u001b[0;31m                 \u001b[0mlandmarks_for_sess\u001b[0m\u001b[0;34m.\u001b[0m\u001b[0mappend\u001b[0m\u001b[0;34m(\u001b[0m\u001b[0mminute_data\u001b[0m\u001b[0;34m)\u001b[0m\u001b[0;34m\u001b[0m\u001b[0;34m\u001b[0m\u001b[0m\n\u001b[0m\u001b[1;32m    138\u001b[0m \u001b[0;34m\u001b[0m\u001b[0m\n\u001b[1;32m    139\u001b[0m \u001b[0;34m\u001b[0m\u001b[0m\n",
            "\u001b[0;32mh5py/_objects.pyx\u001b[0m in \u001b[0;36mh5py._objects.with_phil.wrapper\u001b[0;34m()\u001b[0m\n",
            "\u001b[0;32mh5py/_objects.pyx\u001b[0m in \u001b[0;36mh5py._objects.with_phil.wrapper\u001b[0;34m()\u001b[0m\n",
            "\u001b[0;32m/usr/local/lib/python3.7/dist-packages/h5py/_hl/files.py\u001b[0m in \u001b[0;36m__exit__\u001b[0;34m(self, *args)\u001b[0m\n\u001b[1;32m    473\u001b[0m     \u001b[0;32mdef\u001b[0m \u001b[0m__exit__\u001b[0m\u001b[0;34m(\u001b[0m\u001b[0mself\u001b[0m\u001b[0;34m,\u001b[0m \u001b[0;34m*\u001b[0m\u001b[0margs\u001b[0m\u001b[0;34m)\u001b[0m\u001b[0;34m:\u001b[0m\u001b[0;34m\u001b[0m\u001b[0;34m\u001b[0m\u001b[0m\n\u001b[1;32m    474\u001b[0m         \u001b[0;32mif\u001b[0m \u001b[0mself\u001b[0m\u001b[0;34m.\u001b[0m\u001b[0mid\u001b[0m\u001b[0;34m:\u001b[0m\u001b[0;34m\u001b[0m\u001b[0;34m\u001b[0m\u001b[0m\n\u001b[0;32m--> 475\u001b[0;31m             \u001b[0mself\u001b[0m\u001b[0;34m.\u001b[0m\u001b[0mclose\u001b[0m\u001b[0;34m(\u001b[0m\u001b[0;34m)\u001b[0m\u001b[0;34m\u001b[0m\u001b[0;34m\u001b[0m\u001b[0m\n\u001b[0m\u001b[1;32m    476\u001b[0m \u001b[0;34m\u001b[0m\u001b[0m\n\u001b[1;32m    477\u001b[0m     \u001b[0;34m@\u001b[0m\u001b[0mwith_phil\u001b[0m\u001b[0;34m\u001b[0m\u001b[0;34m\u001b[0m\u001b[0m\n",
            "\u001b[0;32m/usr/local/lib/python3.7/dist-packages/h5py/_hl/files.py\u001b[0m in \u001b[0;36mclose\u001b[0;34m(self)\u001b[0m\n\u001b[1;32m    455\u001b[0m                 \u001b[0;32mfor\u001b[0m \u001b[0mid_\u001b[0m \u001b[0;32min\u001b[0m \u001b[0mfile_list\u001b[0m\u001b[0;34m:\u001b[0m\u001b[0;34m\u001b[0m\u001b[0;34m\u001b[0m\u001b[0m\n\u001b[1;32m    456\u001b[0m                     \u001b[0;32mwhile\u001b[0m \u001b[0mid_\u001b[0m\u001b[0;34m.\u001b[0m\u001b[0mvalid\u001b[0m\u001b[0;34m:\u001b[0m\u001b[0;34m\u001b[0m\u001b[0;34m\u001b[0m\u001b[0m\n\u001b[0;32m--> 457\u001b[0;31m                         \u001b[0mh5i\u001b[0m\u001b[0;34m.\u001b[0m\u001b[0mdec_ref\u001b[0m\u001b[0;34m(\u001b[0m\u001b[0mid_\u001b[0m\u001b[0;34m)\u001b[0m\u001b[0;34m\u001b[0m\u001b[0;34m\u001b[0m\u001b[0m\n\u001b[0m\u001b[1;32m    458\u001b[0m \u001b[0;34m\u001b[0m\u001b[0m\n\u001b[1;32m    459\u001b[0m                 \u001b[0mself\u001b[0m\u001b[0;34m.\u001b[0m\u001b[0mid\u001b[0m\u001b[0;34m.\u001b[0m\u001b[0mclose\u001b[0m\u001b[0;34m(\u001b[0m\u001b[0;34m)\u001b[0m\u001b[0;34m\u001b[0m\u001b[0;34m\u001b[0m\u001b[0m\n",
            "\u001b[0;31mKeyboardInterrupt\u001b[0m: "
          ]
        }
      ]
    },
    {
      "cell_type": "code",
      "metadata": {
        "id": "EnQC2__zpyBV"
      },
      "source": [
        "df_temp_train.to_csv(\"/content/drive/MyDrive/Recordings/Train/train_data.csv\")"
      ],
      "execution_count": null,
      "outputs": []
    }
  ]
}