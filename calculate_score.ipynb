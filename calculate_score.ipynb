{
 "cells": [
  {
   "cell_type": "code",
   "execution_count": 2,
   "metadata": {},
   "outputs": [],
   "source": [
    "import pandas as pd"
   ]
  },
  {
   "cell_type": "code",
   "execution_count": 22,
   "metadata": {},
   "outputs": [
    {
     "data": {
      "text/html": [
       "<div>\n",
       "<style scoped>\n",
       "    .dataframe tbody tr th:only-of-type {\n",
       "        vertical-align: middle;\n",
       "    }\n",
       "\n",
       "    .dataframe tbody tr th {\n",
       "        vertical-align: top;\n",
       "    }\n",
       "\n",
       "    .dataframe thead th {\n",
       "        text-align: right;\n",
       "    }\n",
       "</style>\n",
       "<table border=\"1\" class=\"dataframe\">\n",
       "  <thead>\n",
       "    <tr style=\"text-align: right;\">\n",
       "      <th></th>\n",
       "      <th>Unnamed: 0</th>\n",
       "      <th>0</th>\n",
       "      <th>1</th>\n",
       "      <th>2</th>\n",
       "      <th>3</th>\n",
       "      <th>4</th>\n",
       "      <th>5</th>\n",
       "    </tr>\n",
       "  </thead>\n",
       "  <tbody>\n",
       "    <tr>\n",
       "      <th>0</th>\n",
       "      <td>0</td>\n",
       "      <td>8</td>\n",
       "      <td>-0.413023</td>\n",
       "      <td>0.318661</td>\n",
       "      <td>-0.198496</td>\n",
       "      <td>0.254389</td>\n",
       "      <td>-0.611412</td>\n",
       "    </tr>\n",
       "    <tr>\n",
       "      <th>1</th>\n",
       "      <td>1</td>\n",
       "      <td>56</td>\n",
       "      <td>0.242949</td>\n",
       "      <td>-0.142948</td>\n",
       "      <td>0.254305</td>\n",
       "      <td>-0.240118</td>\n",
       "      <td>-0.222700</td>\n",
       "    </tr>\n",
       "    <tr>\n",
       "      <th>2</th>\n",
       "      <td>2</td>\n",
       "      <td>66</td>\n",
       "      <td>-0.574139</td>\n",
       "      <td>0.512791</td>\n",
       "      <td>-0.103039</td>\n",
       "      <td>0.093711</td>\n",
       "      <td>-0.598716</td>\n",
       "    </tr>\n",
       "    <tr>\n",
       "      <th>3</th>\n",
       "      <td>3</td>\n",
       "      <td>67</td>\n",
       "      <td>-0.381117</td>\n",
       "      <td>0.584793</td>\n",
       "      <td>-0.184890</td>\n",
       "      <td>0.095253</td>\n",
       "      <td>0.052588</td>\n",
       "    </tr>\n",
       "    <tr>\n",
       "      <th>4</th>\n",
       "      <td>4</td>\n",
       "      <td>86</td>\n",
       "      <td>0.161049</td>\n",
       "      <td>-0.265454</td>\n",
       "      <td>-0.954321</td>\n",
       "      <td>-0.190624</td>\n",
       "      <td>-0.222700</td>\n",
       "    </tr>\n",
       "  </tbody>\n",
       "</table>\n",
       "</div>"
      ],
      "text/plain": [
       "   Unnamed: 0   0         1         2         3         4         5\n",
       "0           0   8 -0.413023  0.318661 -0.198496  0.254389 -0.611412\n",
       "1           1  56  0.242949 -0.142948  0.254305 -0.240118 -0.222700\n",
       "2           2  66 -0.574139  0.512791 -0.103039  0.093711 -0.598716\n",
       "3           3  67 -0.381117  0.584793 -0.184890  0.095253  0.052588\n",
       "4           4  86  0.161049 -0.265454 -0.954321 -0.190624 -0.222700"
      ]
     },
     "execution_count": 22,
     "metadata": {},
     "output_type": "execute_result"
    }
   ],
   "source": [
    "pred = pd.read_csv(\"./Results/audio_pred_age_mean.csv\")\n",
    "ground = pd.read_csv(\"./parts_test_unmasked.csv\")\n",
    "pred.head()"
   ]
  },
  {
   "cell_type": "code",
   "execution_count": 24,
   "metadata": {},
   "outputs": [
    {
     "name": "stdout",
     "output_type": "stream",
     "text": [
      "Index(['Unnamed: 0', '0', '1', '2', '3', '4', '5'], dtype='object')\n"
     ]
    }
   ],
   "source": [
    "print(pred.columns)\n",
    "pred = pred.drop(['Unnamed: 0', '0'], axis = 1)\n",
    "OCEAN = ['OPENMINDEDNESS_Z',\n",
    "       'CONSCIENTIOUSNESS_Z', 'EXTRAVERSION_Z', 'AGREEABLENESS_Z',\n",
    "       'NEGATIVEEMOTIONALITY_Z']\n",
    "\n",
    "pred.columns = OCEAN"
   ]
  },
  {
   "cell_type": "code",
   "execution_count": 25,
   "metadata": {},
   "outputs": [],
   "source": [
    "dropcols = ['ID','GENDER', 'AGE', 'COUNTRY', 'EDUCATION', 'NUM_SESSIONS', 'SESSION1', 'SESSION2',\n",
    "       'SESSION3', 'SESSION4', 'SESSION5']\n",
    "\n",
    "ground.drop(dropcols, axis = 1, inplace=True)"
   ]
  },
  {
   "cell_type": "code",
   "execution_count": 26,
   "metadata": {},
   "outputs": [
    {
     "data": {
      "text/html": [
       "<div>\n",
       "<style scoped>\n",
       "    .dataframe tbody tr th:only-of-type {\n",
       "        vertical-align: middle;\n",
       "    }\n",
       "\n",
       "    .dataframe tbody tr th {\n",
       "        vertical-align: top;\n",
       "    }\n",
       "\n",
       "    .dataframe thead th {\n",
       "        text-align: right;\n",
       "    }\n",
       "</style>\n",
       "<table border=\"1\" class=\"dataframe\">\n",
       "  <thead>\n",
       "    <tr style=\"text-align: right;\">\n",
       "      <th></th>\n",
       "      <th>OPENMINDEDNESS_Z</th>\n",
       "      <th>CONSCIENTIOUSNESS_Z</th>\n",
       "      <th>EXTRAVERSION_Z</th>\n",
       "      <th>AGREEABLENESS_Z</th>\n",
       "      <th>NEGATIVEEMOTIONALITY_Z</th>\n",
       "    </tr>\n",
       "  </thead>\n",
       "  <tbody>\n",
       "    <tr>\n",
       "      <th>0</th>\n",
       "      <td>0.209353</td>\n",
       "      <td>1.698023</td>\n",
       "      <td>0.717403</td>\n",
       "      <td>0.627602</td>\n",
       "      <td>-0.312424</td>\n",
       "    </tr>\n",
       "    <tr>\n",
       "      <th>1</th>\n",
       "      <td>0.840368</td>\n",
       "      <td>-0.600953</td>\n",
       "      <td>-1.654197</td>\n",
       "      <td>-0.082350</td>\n",
       "      <td>0.817512</td>\n",
       "    </tr>\n",
       "    <tr>\n",
       "      <th>2</th>\n",
       "      <td>0.209353</td>\n",
       "      <td>-0.465719</td>\n",
       "      <td>-0.231237</td>\n",
       "      <td>-0.259838</td>\n",
       "      <td>-0.312424</td>\n",
       "    </tr>\n",
       "    <tr>\n",
       "      <th>3</th>\n",
       "      <td>0.051600</td>\n",
       "      <td>1.157087</td>\n",
       "      <td>0.559297</td>\n",
       "      <td>0.272626</td>\n",
       "      <td>-1.567907</td>\n",
       "    </tr>\n",
       "    <tr>\n",
       "      <th>4</th>\n",
       "      <td>-0.421661</td>\n",
       "      <td>0.886620</td>\n",
       "      <td>-0.389343</td>\n",
       "      <td>0.095138</td>\n",
       "      <td>-1.442359</td>\n",
       "    </tr>\n",
       "  </tbody>\n",
       "</table>\n",
       "</div>"
      ],
      "text/plain": [
       "   OPENMINDEDNESS_Z  CONSCIENTIOUSNESS_Z  EXTRAVERSION_Z  AGREEABLENESS_Z  \\\n",
       "0          0.209353             1.698023        0.717403         0.627602   \n",
       "1          0.840368            -0.600953       -1.654197        -0.082350   \n",
       "2          0.209353            -0.465719       -0.231237        -0.259838   \n",
       "3          0.051600             1.157087        0.559297         0.272626   \n",
       "4         -0.421661             0.886620       -0.389343         0.095138   \n",
       "\n",
       "   NEGATIVEEMOTIONALITY_Z  \n",
       "0               -0.312424  \n",
       "1                0.817512  \n",
       "2               -0.312424  \n",
       "3               -1.567907  \n",
       "4               -1.442359  "
      ]
     },
     "execution_count": 26,
     "metadata": {},
     "output_type": "execute_result"
    }
   ],
   "source": [
    "ground.head()"
   ]
  },
  {
   "cell_type": "code",
   "execution_count": 27,
   "metadata": {},
   "outputs": [
    {
     "data": {
      "text/html": [
       "<div>\n",
       "<style scoped>\n",
       "    .dataframe tbody tr th:only-of-type {\n",
       "        vertical-align: middle;\n",
       "    }\n",
       "\n",
       "    .dataframe tbody tr th {\n",
       "        vertical-align: top;\n",
       "    }\n",
       "\n",
       "    .dataframe thead th {\n",
       "        text-align: right;\n",
       "    }\n",
       "</style>\n",
       "<table border=\"1\" class=\"dataframe\">\n",
       "  <thead>\n",
       "    <tr style=\"text-align: right;\">\n",
       "      <th></th>\n",
       "      <th>OPENMINDEDNESS_Z</th>\n",
       "      <th>CONSCIENTIOUSNESS_Z</th>\n",
       "      <th>EXTRAVERSION_Z</th>\n",
       "      <th>AGREEABLENESS_Z</th>\n",
       "      <th>NEGATIVEEMOTIONALITY_Z</th>\n",
       "    </tr>\n",
       "  </thead>\n",
       "  <tbody>\n",
       "    <tr>\n",
       "      <th>0</th>\n",
       "      <td>-0.413023</td>\n",
       "      <td>0.318661</td>\n",
       "      <td>-0.198496</td>\n",
       "      <td>0.254389</td>\n",
       "      <td>-0.611412</td>\n",
       "    </tr>\n",
       "    <tr>\n",
       "      <th>1</th>\n",
       "      <td>0.242949</td>\n",
       "      <td>-0.142948</td>\n",
       "      <td>0.254305</td>\n",
       "      <td>-0.240118</td>\n",
       "      <td>-0.222700</td>\n",
       "    </tr>\n",
       "    <tr>\n",
       "      <th>2</th>\n",
       "      <td>-0.574139</td>\n",
       "      <td>0.512791</td>\n",
       "      <td>-0.103039</td>\n",
       "      <td>0.093711</td>\n",
       "      <td>-0.598716</td>\n",
       "    </tr>\n",
       "    <tr>\n",
       "      <th>3</th>\n",
       "      <td>-0.381117</td>\n",
       "      <td>0.584793</td>\n",
       "      <td>-0.184890</td>\n",
       "      <td>0.095253</td>\n",
       "      <td>0.052588</td>\n",
       "    </tr>\n",
       "    <tr>\n",
       "      <th>4</th>\n",
       "      <td>0.161049</td>\n",
       "      <td>-0.265454</td>\n",
       "      <td>-0.954321</td>\n",
       "      <td>-0.190624</td>\n",
       "      <td>-0.222700</td>\n",
       "    </tr>\n",
       "  </tbody>\n",
       "</table>\n",
       "</div>"
      ],
      "text/plain": [
       "   OPENMINDEDNESS_Z  CONSCIENTIOUSNESS_Z  EXTRAVERSION_Z  AGREEABLENESS_Z  \\\n",
       "0         -0.413023             0.318661       -0.198496         0.254389   \n",
       "1          0.242949            -0.142948        0.254305        -0.240118   \n",
       "2         -0.574139             0.512791       -0.103039         0.093711   \n",
       "3         -0.381117             0.584793       -0.184890         0.095253   \n",
       "4          0.161049            -0.265454       -0.954321        -0.190624   \n",
       "\n",
       "   NEGATIVEEMOTIONALITY_Z  \n",
       "0               -0.611412  \n",
       "1               -0.222700  \n",
       "2               -0.598716  \n",
       "3                0.052588  \n",
       "4               -0.222700  "
      ]
     },
     "execution_count": 27,
     "metadata": {},
     "output_type": "execute_result"
    }
   ],
   "source": [
    "pred.head()"
   ]
  },
  {
   "cell_type": "code",
   "execution_count": 28,
   "metadata": {},
   "outputs": [],
   "source": [
    "sub = ground.subtract(pred)\n"
   ]
  },
  {
   "cell_type": "code",
   "execution_count": 29,
   "metadata": {},
   "outputs": [
    {
     "data": {
      "text/html": [
       "<div>\n",
       "<style scoped>\n",
       "    .dataframe tbody tr th:only-of-type {\n",
       "        vertical-align: middle;\n",
       "    }\n",
       "\n",
       "    .dataframe tbody tr th {\n",
       "        vertical-align: top;\n",
       "    }\n",
       "\n",
       "    .dataframe thead th {\n",
       "        text-align: right;\n",
       "    }\n",
       "</style>\n",
       "<table border=\"1\" class=\"dataframe\">\n",
       "  <thead>\n",
       "    <tr style=\"text-align: right;\">\n",
       "      <th></th>\n",
       "      <th>OPENMINDEDNESS_Z</th>\n",
       "      <th>CONSCIENTIOUSNESS_Z</th>\n",
       "      <th>EXTRAVERSION_Z</th>\n",
       "      <th>AGREEABLENESS_Z</th>\n",
       "      <th>NEGATIVEEMOTIONALITY_Z</th>\n",
       "    </tr>\n",
       "  </thead>\n",
       "  <tbody>\n",
       "    <tr>\n",
       "      <th>0</th>\n",
       "      <td>0.622376</td>\n",
       "      <td>1.379361</td>\n",
       "      <td>0.915900</td>\n",
       "      <td>0.373213</td>\n",
       "      <td>0.298989</td>\n",
       "    </tr>\n",
       "    <tr>\n",
       "      <th>1</th>\n",
       "      <td>0.597419</td>\n",
       "      <td>-0.458005</td>\n",
       "      <td>-1.908502</td>\n",
       "      <td>0.157767</td>\n",
       "      <td>1.040212</td>\n",
       "    </tr>\n",
       "    <tr>\n",
       "      <th>2</th>\n",
       "      <td>0.783492</td>\n",
       "      <td>-0.978510</td>\n",
       "      <td>-0.128198</td>\n",
       "      <td>-0.353549</td>\n",
       "      <td>0.286292</td>\n",
       "    </tr>\n",
       "    <tr>\n",
       "      <th>3</th>\n",
       "      <td>0.432717</td>\n",
       "      <td>0.572295</td>\n",
       "      <td>0.744186</td>\n",
       "      <td>0.177373</td>\n",
       "      <td>-1.620496</td>\n",
       "    </tr>\n",
       "    <tr>\n",
       "      <th>4</th>\n",
       "      <td>-0.582711</td>\n",
       "      <td>1.152073</td>\n",
       "      <td>0.564977</td>\n",
       "      <td>0.285761</td>\n",
       "      <td>-1.219659</td>\n",
       "    </tr>\n",
       "  </tbody>\n",
       "</table>\n",
       "</div>"
      ],
      "text/plain": [
       "   OPENMINDEDNESS_Z  CONSCIENTIOUSNESS_Z  EXTRAVERSION_Z  AGREEABLENESS_Z  \\\n",
       "0          0.622376             1.379361        0.915900         0.373213   \n",
       "1          0.597419            -0.458005       -1.908502         0.157767   \n",
       "2          0.783492            -0.978510       -0.128198        -0.353549   \n",
       "3          0.432717             0.572295        0.744186         0.177373   \n",
       "4         -0.582711             1.152073        0.564977         0.285761   \n",
       "\n",
       "   NEGATIVEEMOTIONALITY_Z  \n",
       "0                0.298989  \n",
       "1                1.040212  \n",
       "2                0.286292  \n",
       "3               -1.620496  \n",
       "4               -1.219659  "
      ]
     },
     "execution_count": 29,
     "metadata": {},
     "output_type": "execute_result"
    }
   ],
   "source": [
    "sub.head()"
   ]
  },
  {
   "cell_type": "code",
   "execution_count": 30,
   "metadata": {},
   "outputs": [],
   "source": [
    "df = sub.mul(sub)"
   ]
  },
  {
   "cell_type": "code",
   "execution_count": 31,
   "metadata": {},
   "outputs": [],
   "source": [
    "df = df.mean(axis = 1)"
   ]
  },
  {
   "cell_type": "code",
   "execution_count": 32,
   "metadata": {},
   "outputs": [
    {
     "data": {
      "text/plain": [
       "1.0032275008263027"
      ]
     },
     "execution_count": 32,
     "metadata": {},
     "output_type": "execute_result"
    }
   ],
   "source": [
    "df.mean()"
   ]
  },
  {
   "cell_type": "code",
   "execution_count": null,
   "metadata": {},
   "outputs": [],
   "source": []
  },
  {
   "cell_type": "code",
   "execution_count": null,
   "metadata": {},
   "outputs": [],
   "source": []
  }
 ],
 "metadata": {
  "interpreter": {
   "hash": "916dbcbb3f70747c44a77c7bcd40155683ae19c65e1c03b4aa3499c5328201f1"
  },
  "kernelspec": {
   "display_name": "Python 3.8.10 64-bit",
   "name": "python3"
  },
  "language_info": {
   "codemirror_mode": {
    "name": "ipython",
    "version": 3
   },
   "file_extension": ".py",
   "mimetype": "text/x-python",
   "name": "python",
   "nbconvert_exporter": "python",
   "pygments_lexer": "ipython3",
   "version": "3.8.10"
  },
  "orig_nbformat": 4
 },
 "nbformat": 4,
 "nbformat_minor": 2
}
